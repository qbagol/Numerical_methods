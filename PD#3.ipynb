{
 "cells": [
  {
   "cell_type": "code",
   "execution_count": 1,
   "metadata": {},
   "outputs": [
    {
     "name": "stdout",
     "output_type": "stream",
     "text": [
      "35\n",
      "[0.0, 0.0, 0.0, 0.1, 0.1, 0.1, 0.2, 0.2, 0.2, 0.3, 0.3, 0.3, 0.4, 0.4, 0.4, 0.5, 0.5, 0.5, 0.6, 0.6, 0.6, 0.7, 0.7, 0.7, 0.8, 0.8, 0.8, 0.9, 0.9, 0.9, 1.0, 1.1, 1.2, 1.3, 1.4]\n",
      "[0.4016840528976815, 0.005235987739788453, -0.39819410322743143, 0.3936083940920897, -0.09476020456662869, -0.22601042844560773, 0.3685789198525664, -0.19475639687304583, 0.008297446648522389, 0.35121667332801243, -0.29475258917946295, 0.24102559103033094, 0.34056521086704916, -0.3947487814858801, 0.4508361431371867, 0.31360284459083587, -0.4947449737922972, 0.6436830769253872, 0.2655694977392139, -0.5947411660987143, 0.8059659429083892, 0.20103614186943752, -0.6947373584051314, 0.9172620596437289, 0.13331187797248356, -0.7947335507115486, 0.9515829632019317, 0.052169717444174646, -0.8947297430179657, 0.830195504016912, -0.9947259353243828, -1.0947221276308001, -1.194718319937217, -1.2947145122436343, -1.3947107045500513]\n",
      "[0.9204038871451753, 0.9999862922475116, 0.9217627410374599, 0.9235311718170351, 0.9955136104496045, 0.974568176477005, 0.9328402885416155, 0.9810948425740239, 0.9999655763870567, 0.9389548230599389, 0.9568740452212211, 0.9710936783686697, 0.9425660244221179, 0.9230932061780152, 0.9000830941816157, 0.9512283125341797, 0.8800898267395898, 0.7998908058763805, 0.9649431876502034, 0.8282935497647024, 0.6924146305301624, 0.9798602021714861, 0.7682218671528986, 0.6079961929962553, 0.991127124052175, 0.7004749496299388, 0.5803947544070708, 0.9986394689103498, 0.625729650496579, 0.6747314786274388, 0.5447327432487095, 0.45829346063117304, 0.36727540966689987, 0.2725879434375654, 0.17517707581953335]\n"
     ]
    },
    {
     "data": {
      "text/plain": [
       "Text(0.5, 0, 'H_ext')"
      ]
     },
     "execution_count": 1,
     "metadata": {},
     "output_type": "execute_result"
    },
    {
     "data": {
      "image/png": "[encoded data removed]",
      "text/plain": [
       "<Figure size 432x288 with 1 Axes>"
      ]
     },
     "metadata": {
      "needs_background": "light"
     },
     "output_type": "display_data"
    }
   ],
   "source": [
    "import numpy as np\n",
    "import matplotlib.pyplot as plt\n",
    "\n",
    "def e(o,h):\n",
    "    return (-1/2)*np.sin(o)**2+(0.2/2)*np.sin(o)**4-h*np.cos(o)\n",
    "\n",
    "def de(o,h):\n",
    "    return -np.sin(o)*np.cos(o)+(2*np.sin(o)**3*np.cos(o))/5+h*np.sin(o)\n",
    "\n",
    "tabc=[]\n",
    "tabfc=[]\n",
    "\n",
    "for h in range(0,15):\n",
    "    for i in range(0,360):\n",
    "        if de(i*np.pi/180,h/10)*de((i+1)*np.pi/180,h/10)<0:\n",
    "            c=(i+(i+1)/2)\n",
    "            tabfc+=[de((c)*np.pi/180,h/10)]\n",
    "            tabc+=[h/10]\n",
    "            if de(i*np.pi/180,h/10)*de((c)*np.pi/180,h/10)<0:\n",
    "                b=c\n",
    "            elif de(i*np.pi/180,h/10)*de((c)*np.pi/180,h/10)>0:\n",
    "                a=c\n",
    "            else: \n",
    "                break;\n",
    "                \n",
    "it=len(tabc) \n",
    "tabcos=[]\n",
    "for z in range(0,it):\n",
    "    w=tabfc[z]\n",
    "    tabcos+=[np.cos(w)]\n",
    "                \n",
    "print(it)\n",
    "print(tabc)\n",
    "print(tabfc)\n",
    "print(tabcos)\n",
    "plt.plot(tabc,tabcos,\"o\")\n",
    "plt.ylabel('Cos(Ɵ)')\n",
    "plt.xlabel('H_ext')"
   ]
  },
  {
   "cell_type": "code",
   "execution_count": null,
   "metadata": {},
   "outputs": [],
   "source": []
  }
 ],
 "metadata": {
  "kernelspec": {
   "display_name": "Python 3",
   "language": "python",
   "name": "python3"
  },
  "language_info": {
   "codemirror_mode": {
    "name": "ipython",
    "version": 3
   },
   "file_extension": ".py",
   "mimetype": "text/x-python",
   "name": "python",
   "nbconvert_exporter": "python",
   "pygments_lexer": "ipython3",
   "version": "3.8.3"
  }
 },
 "nbformat": 4,
 "nbformat_minor": 4
}
