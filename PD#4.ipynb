{
 "cells": [
  {
   "cell_type": "code",
   "execution_count": 1,
   "metadata": {},
   "outputs": [
    {
     "name": "stdout",
     "output_type": "stream",
     "text": [
      "Minimalna energia dla h= 0.417 m\n"
     ]
    }
   ],
   "source": [
    "import numpy as np\n",
    "import matplotlib.pyplot as plt\n",
    "\n",
    "k=50\n",
    "a=1\n",
    "g=9.81\n",
    "m=1\n",
    "minh=0\n",
    "\n",
    "def iksg(h):\n",
    "    return np.sqrt((a/2)**2+(a-h)**2)\n",
    "\n",
    "def iksd(h):\n",
    "    return np.sqrt((a/2)**2+(h)**2)\n",
    "\n",
    "for i in range(0,1000):\n",
    "    xg=iksg(i/1000)\n",
    "    xd=iksd(i/1000)\n",
    "    xg1=iksg(((i+1)/1000))\n",
    "    xd1=iksd(((i+1)/1000))\n",
    "    if -(1/2)*k*xg**2+(1/2)*k*xd**2+m*g*(i/1000) > -(1/2)*k*xg1**2+(1/2)*k*xd1**2+m*g*(i/1000):\n",
    "        if -(1/2)*k*xg**2+(1/2)*k*xd**2+m*g*(i/1000)>0:\n",
    "            minh=i/1000           \n",
    "        \n",
    "    if -(1/2)*k*xg**2+(1/2)*k*xd**2+m*g*(i/1000) < -(1/2)*k*xg1**2+(1/2)*k*xd1**2+m*g*(i/1000):\n",
    "        if -(1/2)*k*xg**2+(1/2)*k*xd**2+m*g*(i/1000)<0:\n",
    "            minh=i/1000\n",
    "            \n",
    "print(\"Minimalna energia dla h=\",minh,\"m\")\n",
    "        "
   ]
  },
  {
   "cell_type": "code",
   "execution_count": null,
   "metadata": {},
   "outputs": [],
   "source": []
  }
 ],
 "metadata": {
  "kernelspec": {
   "display_name": "Python 3",
   "language": "python",
   "name": "python3"
  },
  "language_info": {
   "codemirror_mode": {
    "name": "ipython",
    "version": 3
   },
   "file_extension": ".py",
   "mimetype": "text/x-python",
   "name": "python",
   "nbconvert_exporter": "python",
   "pygments_lexer": "ipython3",
   "version": "3.8.3"
  }
 },
 "nbformat": 4,
 "nbformat_minor": 4
}
