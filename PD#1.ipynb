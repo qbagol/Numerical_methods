{
 "cells": [
  {
   "cell_type": "code",
   "execution_count": 1,
   "metadata": {},
   "outputs": [
    {
     "name": "stdout",
     "output_type": "stream",
     "text": [
      "Liczba 938903482 w systemie numeracji o bazie 36 wynosi FIZYKA\n"
     ]
    }
   ],
   "source": [
    "def zamiana_unicode(x):\n",
    "    if (x >= 0 and x <= 9):\n",
    "        return chr(ord('0') + x);\n",
    "    else:\n",
    "        return chr(ord('A') + x - 10);\n",
    "\n",
    "def konwersja(reszta, baza, liczba):\n",
    "\n",
    "    while (liczba > 0):\n",
    "        reszta = reszta + zamiana_unicode(liczba % baza);\n",
    "        liczba = int(liczba / baza);\n",
    "\n",
    "    reszta = reszta[ : :-1];\n",
    "\n",
    "    return reszta;\n",
    "\n",
    "liczba = 938903482;\n",
    "baza = 36;\n",
    "reszta = \"\";\n",
    "print(\"Liczba\", liczba, \"w systemie numeracji o bazie\",\n",
    "      baza, \"wynosi\", konwersja(reszta, baza, liczba));\n"
   ]
  },
  {
   "cell_type": "code",
   "execution_count": null,
   "metadata": {},
   "outputs": [],
   "source": []
  }
 ],
 "metadata": {
  "kernelspec": {
   "display_name": "Python 3",
   "language": "python",
   "name": "python3"
  },
  "language_info": {
   "codemirror_mode": {
    "name": "ipython",
    "version": 3
   },
   "file_extension": ".py",
   "mimetype": "text/x-python",
   "name": "python",
   "nbconvert_exporter": "python",
   "pygments_lexer": "ipython3",
   "version": "3.8.3"
  }
 },
 "nbformat": 4,
 "nbformat_minor": 4
}
