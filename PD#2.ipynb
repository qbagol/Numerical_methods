{
 "cells": [
  {
   "cell_type": "code",
   "execution_count": 10,
   "metadata": {},
   "outputs": [],
   "source": [
    "import numpy as np\n",
    "import matplotlib.pyplot as plt"
   ]
  },
  {
   "cell_type": "code",
   "execution_count": 11,
   "metadata": {},
   "outputs": [
    {
     "name": "stdout",
     "output_type": "stream",
     "text": [
      "0.8332499999997576\n"
     ]
    }
   ],
   "source": [
    "bok = 1 \n",
    "masa = 5\n",
    "krok = 100\n",
    "\n",
    "delta_a = bok/krok\n",
    "delta_m = masa/krok**3\n",
    "\n",
    "tabx = np.linspace(delta_a/2, bok-delta_a/2, krok)\n",
    "taby = np.linspace(delta_a/2, bok-delta_a/2, krok) \n",
    "tabz = np.linspace(delta_a/2, bok-delta_a/2, krok)\n",
    "bezwl=0\n",
    "\n",
    "for x in tabx:\n",
    "    for y in taby:\n",
    "          for z in tabz:\n",
    "                bezwl=bezwl+(x**2+y**2+z**2-(x+y+z)**2/3)*delta_m\n",
    "\n",
    "print(bezwl)"
   ]
  },
  {
   "cell_type": "code",
   "execution_count": null,
   "metadata": {},
   "outputs": [],
   "source": []
  }
 ],
 "metadata": {
  "kernelspec": {
   "display_name": "Python 3",
   "language": "python",
   "name": "python3"
  },
  "language_info": {
   "codemirror_mode": {
    "name": "ipython",
    "version": 3
   },
   "file_extension": ".py",
   "mimetype": "text/x-python",
   "name": "python",
   "nbconvert_exporter": "python",
   "pygments_lexer": "ipython3",
   "version": "3.8.3"
  }
 },
 "nbformat": 4,
 "nbformat_minor": 4
}
