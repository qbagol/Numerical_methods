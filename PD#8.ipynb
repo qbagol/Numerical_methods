{
 "cells": [
  {
   "cell_type": "code",
   "execution_count": 1,
   "metadata": {},
   "outputs": [],
   "source": [
    "import numpy as np\n",
    "import matplotlib.pyplot as plt"
   ]
  },
  {
   "cell_type": "code",
   "execution_count": 2,
   "metadata": {},
   "outputs": [],
   "source": [
    "c1,c2,c3,c4=1/6, 1/3, 1/3 ,1/6\n",
    "a2,a3,a4=1/2,1/2,1\n",
    "b21,b31,b32,b41,b42,b43=1/2,0,1/2,0,0,1\n",
    "\n",
    "k = 50 \n",
    "a = 1 \n",
    "g = -9.81 \n",
    "m = 1 \n",
    "beta = 2.5 \n",
    "x0 = 0.4 \n",
    "y0 = 0.1 \n",
    "tmax = 10\n",
    "dt = 0.001\n",
    "\n",
    "l0 = np.sqrt((a/2)**2 + (a/2)**2)\n",
    "am = -a/2\n",
    "ap = a/2\n",
    "\n",
    "def fx(t, x, y, vx, vy):\n",
    "    return vx\n",
    "def fy(t, x, y, vx, vy):\n",
    "    return vy\n",
    "def fvx(t, x, y, vx, vy):\n",
    "    l1x = (1-l0/np.sqrt((x+ap)**2+(y+am)**2))*(x+ap)\n",
    "    l2x = (1-l0/np.sqrt((x+am)**2+(y+am)**2))*(x+am)\n",
    "    l3x = (1-l0/np.sqrt((x+am)**2+(y+ap)**2))*(x+am)\n",
    "    l4x = (1-l0/np.sqrt((x+ap)**2+(y+ap)**2))*(x+ap)\n",
    "    fx = -beta*np.sqrt(vx**2+vy**2)*vx\n",
    "    return -k*(l1x+l2x+l3x+l4x) + fx\n",
    "def fvy(t, x, y, vx, vy):\n",
    "    l1y = (1-l0/np.sqrt((x+ap)**2+(y+am)**2))*(y+am)\n",
    "    l2y = (1-l0/np.sqrt((x+am)**2+(y+am)**2))*(y+am)\n",
    "    l3y = (1-l0/np.sqrt((x+am)**2+(y+ap)**2))*(y+ap)\n",
    "    l4y = (1-l0/np.sqrt((x+ap)**2+(y+ap)**2))*(y+ap)\n",
    "    fy = -beta*np.sqrt(vx**2+vy**2)*vy\n",
    "    return -k*(l1y+l2y+l3y+l4y) + fy + m*g\n",
    "\n",
    "ttab = np.arange(0, tmax, dt)\n",
    "xtab = np.zeros(len(ttab))\n",
    "ytab = np.zeros(len(ttab))\n",
    "vxtab = np.zeros(len(ttab))\n",
    "vytab = np.zeros(len(ttab))\n",
    "xtab[0] = x0\n",
    "ytab[0] = y0\n",
    "vxtab[0] = 0\n",
    "vytab[0] = 0\n",
    "\n",
    "for i in range(1,len(ttab)):\n",
    "    K1x = fx(ttab[i-1],xtab[i-1],ytab[i-1],vxtab[i-1],vytab[i-1])\n",
    "    K1y = fy(ttab[i-1],xtab[i-1],ytab[i-1],vxtab[i-1],vytab[i-1])\n",
    "    K1vx = fvx(ttab[i-1],xtab[i-1],ytab[i-1],vxtab[i-1],vytab[i-1])\n",
    "    K1vy = fvy(ttab[i-1],xtab[i-1],ytab[i-1],vxtab[i-1],vytab[i-1])\n",
    "    K2x = fx(ttab[i-1]+a2*dt,xtab[i-1]+b21*K1x*dt,ytab[i-1]+b21*K1y*dt,vxtab[i-1]+b21*K1vx*dt,vytab[i-1]+b21*K1vy*dt)\n",
    "    K2y = fy(ttab[i-1]+a2*dt,xtab[i-1]+b21*K1x*dt,ytab[i-1]+b21*K1y*dt,vxtab[i-1]+b21*K1vx*dt,vytab[i-1]+b21*K1vy*dt)\n",
    "    K2vx = fvx(ttab[i-1]+a2*dt,xtab[i-1]+b21*K1x*dt,ytab[i-1]+b21*K1y*dt,vxtab[i-1]+b21*K1vx*dt,vytab[i-1]+b21*K1vy*dt)\n",
    "    K2vy = fvy(ttab[i-1]+a2*dt,xtab[i-1]+b21*K1x*dt,ytab[i-1]+b21*K1y*dt,vxtab[i-1]+b21*K1vx*dt,vytab[i-1]+b21*K1vy*dt)\n",
    "    K3x = fx(ttab[i-1]+a3*dt,xtab[i-1]+b31*K1x*dt+b32*K2x*dt,ytab[i-1]+b31*K1y*dt+b32*K2y*dt,vxtab[i-1]+b31*K1vx*dt+b32*K2vx*dt,vytab[i-1]+b31*K1vy*dt+b32*K2vy*dt)\n",
    "    K3y = fy(ttab[i-1]+a3*dt,xtab[i-1]+b31*K1x*dt+b32*K2x*dt,ytab[i-1]+b31*K1y*dt+b32*K2y*dt,vxtab[i-1]+b31*K1vx*dt+b32*K2vx*dt,vytab[i-1]+b31*K1vy*dt+b32*K2vy*dt)\n",
    "    K3vx = fvx(ttab[i-1]+a3*dt,xtab[i-1]+b31*K1x*dt+b32*K2x*dt,ytab[i-1]+b31*K1y*dt+b32*K2y*dt,vxtab[i-1]+b31*K1vx*dt+b32*K2vx*dt,vytab[i-1]+b31*K1vy*dt+b32*K2vy*dt)\n",
    "    K3vy = fvy(ttab[i-1]+a3*dt,xtab[i-1]+b31*K1x*dt+b32*K2x*dt,ytab[i-1]+b31*K1y*dt+b32*K2y*dt,vxtab[i-1]+b31*K1vx*dt+b32*K2vx*dt,vytab[i-1]+b31*K1vy*dt+b32*K2vy*dt)\n",
    "    K4x = fx(ttab[i-1]+a4*dt,xtab[i-1]+b41*K1x*dt+b42*K2x*dt+b43*K3x*dt,ytab[i-1]+b41*K1y*dt+b42*K2y*dt+b43*K3y*dt,vxtab[i-1]+b41*K1vx*dt+b42*K2vx*dt+b43*K3vx*dt,vytab[i-1]+b41*K1vy*dt+b42*K2vy*dt+b43*K3vy*dt)\n",
    "    K4y = fy(ttab[i-1]+a4*dt,xtab[i-1]+b41*K1x*dt+b42*K2x*dt+b43*K3x*dt,ytab[i-1]+b41*K1y*dt+b42*K2y*dt+b43*K3y*dt,vxtab[i-1]+b41*K1vx*dt+b42*K2vx*dt+b43*K3vx*dt,vytab[i-1]+b41*K1vy*dt+b42*K2vy*dt+b43*K3vy*dt)\n",
    "    K4vx = fvx(ttab[i-1]+a4*dt,xtab[i-1]+b41*K1x*dt+b42*K2x*dt+b43*K3x*dt,ytab[i-1]+b41*K1y*dt+b42*K2y*dt+b43*K3y*dt,vxtab[i-1]+b41*K1vx*dt+b42*K2vx*dt+b43*K3vx*dt,vytab[i-1]+b41*K1vy*dt+b42*K2vy*dt+b43*K3vy*dt)\n",
    "    K4vy = fvy(ttab[i-1]+a4*dt,xtab[i-1]+b41*K1x*dt+b42*K2x*dt+b43*K3x*dt,ytab[i-1]+b41*K1y*dt+b42*K2y*dt+b43*K3y*dt,vxtab[i-1]+b41*K1vx*dt+b42*K2vx*dt+b43*K3vx*dt,vytab[i-1]+b41*K1vy*dt+b42*K2vy*dt+b43*K3vy*dt)\n",
    "        \n",
    "    xtab[i] = xtab[i-1]+(c1*K1x+c2*K2x+c3*K3x+c4*K4x)*dt\n",
    "    ytab[i] = ytab[i-1]+(c1*K1y+c2*K2y+c3*K3y+c4*K4y)*dt\n",
    "    vxtab[i] = vxtab[i-1]+(c1*K1vx+c2*K2vx+c3*K3vx+c4*K4vx)*dt\n",
    "    vytab[i] = vytab[i-1]+(c1*K1vy+c2*K2vy+c3*K3vy+c4*K4vy)*dt"
   ]
  },
  {
   "cell_type": "code",
   "execution_count": 8,
   "metadata": {},
   "outputs": [
    {
     "data": {
      "text/plain": [
       "(-0.5, 0.5, -0.5, 0.5)"
      ]
     },
     "execution_count": 8,
     "metadata": {},
     "output_type": "execute_result"
    },
    {
     "data": {
      "image/png": "[encoded data removed]",
      "text/plain": [
       "<Figure size 360x360 with 1 Axes>"
      ]
     },
     "metadata": {
      "needs_background": "light"
     },
     "output_type": "display_data"
    }
   ],
   "source": [
    "plt.figure(figsize=(5,5))\n",
    "plt.plot(xtab,ytab)\n",
    "plt.axis([-1/2,1/2,-1/2,1/2])"
   ]
  },
  {
   "cell_type": "code",
   "execution_count": null,
   "metadata": {},
   "outputs": [],
   "source": []
  }
 ],
 "metadata": {
  "kernelspec": {
   "display_name": "Python 3",
   "language": "python",
   "name": "python3"
  },
  "language_info": {
   "codemirror_mode": {
    "name": "ipython",
    "version": 3
   },
   "file_extension": ".py",
   "mimetype": "text/x-python",
   "name": "python",
   "nbconvert_exporter": "python",
   "pygments_lexer": "ipython3",
   "version": "3.8.3"
  }
 },
 "nbformat": 4,
 "nbformat_minor": 4
}
